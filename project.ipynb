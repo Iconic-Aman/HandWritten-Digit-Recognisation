{
 "cells": [
  {
   "cell_type": "code",
   "execution_count": 33,
   "metadata": {},
   "outputs": [],
   "source": [
    "import numpy as np\n",
    "import pandas as pd\n",
    "import matplotlib.pyplot as plt\n",
    "import keras\n",
    "from keras.datasets import mnist\n",
    "from keras.models import Sequential\n",
    "from keras.layers import Dense, Conv2D, MaxPool2D, Flatten, Dropout\n",
    "from sklearn import svm\n",
    "from sklearn import datasets\n",
    "from sklearn.model_selection import train_test_split\n"
   ]
  },
  {
   "cell_type": "code",
   "execution_count": 34,
   "metadata": {},
   "outputs": [],
   "source": [
    "(x_train,y_train),(x_test, y_test) = mnist.load_data()\n"
   ]
  },
  {
   "cell_type": "code",
   "execution_count": 35,
   "metadata": {},
   "outputs": [
    {
     "name": "stdout",
     "output_type": "stream",
     "text": [
      "(60000, 28, 28)\n",
      "(10000, 28, 28)\n",
      "(60000,)\n",
      "(10000,)\n"
     ]
    }
   ],
   "source": [
    "print(x_train.shape)\n",
    "print(x_test.shape)\n",
    "print(y_train.shape)\n",
    "print(y_test.shape)"
   ]
  },
  {
   "attachments": {},
   "cell_type": "markdown",
   "metadata": {},
   "source": [
    "preprocessing the image"
   ]
  },
  {
   "cell_type": "code",
   "execution_count": 36,
   "metadata": {},
   "outputs": [],
   "source": [
    "#normalise the image into [0,1] range\n",
    "x_train = x_train.astype(np.float32)/255\n",
    "x_test = x_test.astype(np.float32)/255\n",
    "\n",
    "x_train=np.expand_dims(x_train,-1)\n",
    "x_test=np.expand_dims(x_test,-1)\n"
   ]
  },
  {
   "cell_type": "code",
   "execution_count": 37,
   "metadata": {},
   "outputs": [],
   "source": [
    "y_train=keras.utils.to_categorical(y_train)\n",
    "y_test=keras.utils.to_categorical(y_test)"
   ]
  },
  {
   "cell_type": "code",
   "execution_count": 38,
   "metadata": {},
   "outputs": [],
   "source": [
    "model = Sequential()\n",
    "model.add(Conv2D(32, (3,3), input_shape = (28,28,1), activation='relu'))\n",
    "model.add(MaxPool2D(2,2))\n",
    "\n",
    "model.add(Conv2D(64, (3,3), activation='relu'))\n",
    "model.add(MaxPool2D(2,2))\n",
    "\n",
    "model.add(Flatten())\n",
    "model.add(Dropout(0.3)) #this is used for avoid overfitting as we dropout the 30% of data\n",
    "model.add(Dense(10,activation='softmax')) #as we have 10(from 0 to 9) number of classes"
   ]
  },
  {
   "cell_type": "code",
   "execution_count": 39,
   "metadata": {},
   "outputs": [
    {
     "name": "stdout",
     "output_type": "stream",
     "text": [
      "Model: \"sequential_3\"\n",
      "_________________________________________________________________\n",
      " Layer (type)                Output Shape              Param #   \n",
      "=================================================================\n",
      " conv2d_6 (Conv2D)           (None, 26, 26, 32)        320       \n",
      "                                                                 \n",
      " max_pooling2d_6 (MaxPooling  (None, 13, 13, 32)       0         \n",
      " 2D)                                                             \n",
      "                                                                 \n",
      " conv2d_7 (Conv2D)           (None, 11, 11, 64)        18496     \n",
      "                                                                 \n",
      " max_pooling2d_7 (MaxPooling  (None, 5, 5, 64)         0         \n",
      " 2D)                                                             \n",
      "                                                                 \n",
      " flatten_3 (Flatten)         (None, 1600)              0         \n",
      "                                                                 \n",
      " dropout_3 (Dropout)         (None, 1600)              0         \n",
      "                                                                 \n",
      " dense_3 (Dense)             (None, 10)                16010     \n",
      "                                                                 \n",
      "=================================================================\n",
      "Total params: 34,826\n",
      "Trainable params: 34,826\n",
      "Non-trainable params: 0\n",
      "_________________________________________________________________\n"
     ]
    }
   ],
   "source": [
    "model.summary()"
   ]
  },
  {
   "cell_type": "code",
   "execution_count": 40,
   "metadata": {},
   "outputs": [],
   "source": [
    "model.compile(optimizer='adam',loss=keras.losses.categorical_crossentropy, metrics=['accuracy'])"
   ]
  },
  {
   "cell_type": "code",
   "execution_count": 41,
   "metadata": {},
   "outputs": [],
   "source": [
    "#callbacks \n",
    "from keras.callbacks import EarlyStopping, ModelCheckpoint\n",
    "\n",
    "#EarlyStopping\n",
    "Es= EarlyStopping(monitor='val_accuracy', min_delta=0.01, patience=4,verbose=1)\n",
    "\n",
    "#ModelCheckpoint\n",
    "Mc = ModelCheckpoint(\"./model.h5\", monitor='val_accuracy', verbose=1, save_best_only=True)\n",
    "\n",
    "CallBacks = [Es, Mc]"
   ]
  },
  {
   "attachments": {},
   "cell_type": "markdown",
   "metadata": {},
   "source": [
    "Train the model"
   ]
  },
  {
   "cell_type": "code",
   "execution_count": 42,
   "metadata": {},
   "outputs": [
    {
     "name": "stdout",
     "output_type": "stream",
     "text": [
      "Epoch 1/50\n",
      "1311/1313 [============================>.] - ETA: 0s - loss: 0.2242 - accuracy: 0.9337\n",
      "Epoch 1: val_accuracy improved from -inf to 0.97789, saving model to .\\model.h5\n",
      "1313/1313 [==============================] - 21s 15ms/step - loss: 0.2240 - accuracy: 0.9337 - val_loss: 0.0762 - val_accuracy: 0.9779\n",
      "Epoch 2/50\n",
      "1312/1313 [============================>.] - ETA: 0s - loss: 0.0761 - accuracy: 0.9760\n",
      "Epoch 2: val_accuracy improved from 0.97789 to 0.98156, saving model to .\\model.h5\n",
      "1313/1313 [==============================] - 21s 16ms/step - loss: 0.0761 - accuracy: 0.9760 - val_loss: 0.0600 - val_accuracy: 0.9816\n",
      "Epoch 3/50\n",
      "1310/1313 [============================>.] - ETA: 0s - loss: 0.0576 - accuracy: 0.9824\n",
      "Epoch 3: val_accuracy improved from 0.98156 to 0.98344, saving model to .\\model.h5\n",
      "1313/1313 [==============================] - 22s 17ms/step - loss: 0.0575 - accuracy: 0.9825 - val_loss: 0.0523 - val_accuracy: 0.9834\n",
      "Epoch 4/50\n",
      "1310/1313 [============================>.] - ETA: 0s - loss: 0.0467 - accuracy: 0.9857\n",
      "Epoch 4: val_accuracy improved from 0.98344 to 0.98544, saving model to .\\model.h5\n",
      "1313/1313 [==============================] - 22s 17ms/step - loss: 0.0467 - accuracy: 0.9857 - val_loss: 0.0483 - val_accuracy: 0.9854\n",
      "Epoch 5/50\n",
      "1312/1313 [============================>.] - ETA: 0s - loss: 0.0389 - accuracy: 0.9877\n",
      "Epoch 5: val_accuracy improved from 0.98544 to 0.98739, saving model to .\\model.h5\n",
      "1313/1313 [==============================] - 23s 17ms/step - loss: 0.0389 - accuracy: 0.9877 - val_loss: 0.0418 - val_accuracy: 0.9874\n",
      "Epoch 5: early stopping\n"
     ]
    }
   ],
   "source": [
    "history = model.fit(x_train, y_train, epochs=50, validation_split=0.3, callbacks= CallBacks)"
   ]
  },
  {
   "cell_type": "code",
   "execution_count": 43,
   "metadata": {},
   "outputs": [],
   "source": [
    "#save the model \n",
    "save_model = keras.models.load_model('model.h5')"
   ]
  },
  {
   "cell_type": "code",
   "execution_count": 44,
   "metadata": {},
   "outputs": [
    {
     "name": "stdout",
     "output_type": "stream",
     "text": [
      "313/313 [==============================] - 2s 5ms/step - loss: 0.0327 - accuracy: 0.9889\n",
      "the model accuracy is 0.9889000058174133\n"
     ]
    }
   ],
   "source": [
    "score = save_model.evaluate(x_test, y_test)\n",
    "print(f\"the model accuracy is {score[1]}\")"
   ]
  },
  {
   "attachments": {},
   "cell_type": "markdown",
   "metadata": {},
   "source": [
    "<p><font color=\"Red\", font size=\"5px\">Here is the output of our model</font></p>"
   ]
  },
  {
   "attachments": {},
   "cell_type": "markdown",
   "metadata": {},
   "source": [
    "\n",
    "<img src=\"output.png\" width=\"500\" height=\"340\">"
   ]
  }
 ],
 "metadata": {
  "kernelspec": {
   "display_name": "Python 3",
   "language": "python",
   "name": "python3"
  },
  "language_info": {
   "codemirror_mode": {
    "name": "ipython",
    "version": 3
   },
   "file_extension": ".py",
   "mimetype": "text/x-python",
   "name": "python",
   "nbconvert_exporter": "python",
   "pygments_lexer": "ipython3",
   "version": "3.9.6"
  },
  "orig_nbformat": 4
 },
 "nbformat": 4,
 "nbformat_minor": 2
}
